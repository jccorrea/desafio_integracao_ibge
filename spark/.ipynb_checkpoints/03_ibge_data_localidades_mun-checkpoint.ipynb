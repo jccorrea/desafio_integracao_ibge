{
 "cells": [
  {
   "cell_type": "markdown",
   "id": "b9b0f2a7-ba89-4ef9-afe8-9bd16e302c11",
   "metadata": {},
   "source": [
    "###  Desafio de Integração de dados IBGE\n",
    "Julio Cesar Correa \n",
    "\n",
    "23/02/2024\n",
    " "
   ]
  },
  {
   "cell_type": "markdown",
   "id": "1983f8a0-51a1-4fef-af91-95492f0c1e1a",
   "metadata": {},
   "source": [
    "#### Pyspark - Ingest - Localidades - Municipios do estado de SP"
   ]
  },
  {
   "cell_type": "code",
   "execution_count": 8,
   "id": "746e10a1-4249-4e2a-a3d8-77d7149fd0be",
   "metadata": {},
   "outputs": [],
   "source": [
    "import os\n",
    "import pandas as pd, numpy as np\n",
    "import json\n",
    "import requests\n",
    "#pip install import_ipynb\n",
    "#import import_ipynb"
   ]
  },
  {
   "cell_type": "code",
   "execution_count": 9,
   "id": "db3cae37-e933-4557-94e6-d85b7ec2675f",
   "metadata": {},
   "outputs": [],
   "source": [
    "import delta\n",
    "import requests\n",
    "#import mimesis"
   ]
  },
  {
   "cell_type": "code",
   "execution_count": 10,
   "id": "a4fa9fda-ee98-4e46-894e-2c7eaf0397df",
   "metadata": {},
   "outputs": [],
   "source": [
    "import pyspark\n",
    "from pyspark.sql import SparkSession"
   ]
  },
  {
   "cell_type": "code",
   "execution_count": 11,
   "id": "3b051680-301d-459f-b910-e2c3bf6f59f4",
   "metadata": {},
   "outputs": [],
   "source": [
    "# Import all functions and types\n",
    "from pyspark.sql.types import *\n",
    "from pyspark.sql.functions import *"
   ]
  },
  {
   "cell_type": "code",
   "execution_count": 111,
   "id": "9c9b5248-fbd6-45c1-bc0c-e953eafa9b84",
   "metadata": {},
   "outputs": [],
   "source": [
    "def get_spark() -> SparkSession:\n",
    "    builder = (\n",
    "        pyspark.sql.SparkSession.builder.appName(\"IBGE: Localidades\")\n",
    "        .config(\"spark.sql.repl.eagerEval.enabled\", True)\n",
    "        .config(\"spark.sql.extensions\", \"io.delta.sql.DeltaSparkSessionExtension\")\n",
    "        .config(\n",
    "            \"spark.sql.catalog.spark_catalog\",\n",
    "            \"org.apache.spark.sql.delta.catalog.DeltaCatalog\",\n",
    "        )\n",
    "    )\n",
    "    spark = delta.configure_spark_with_delta_pip(builder).getOrCreate()\n",
    "    spark.sparkContext.setLogLevel(\"ERROR\")\n",
    "    return spark"
   ]
  },
  {
   "cell_type": "code",
   "execution_count": 113,
   "id": "71324b52-a489-467d-b080-be40af1da3b8",
   "metadata": {},
   "outputs": [],
   "source": [
    "# call Spark method \n",
    "spark = get_spark()"
   ]
  },
  {
   "cell_type": "code",
   "execution_count": 252,
   "id": "b0b2787a-5340-45d2-bb2d-0c53cd06cea4",
   "metadata": {},
   "outputs": [],
   "source": [
    "from helpers import download_endpoint_helper"
   ]
  },
  {
   "cell_type": "markdown",
   "id": "52f3adcf-4f27-4e60-b014-aefcbcd5d266",
   "metadata": {},
   "source": [
    "#### Data Processing -  Localidades"
   ]
  },
  {
   "cell_type": "markdown",
   "id": "f986214b-b30b-43a5-9da7-574edd92aa82",
   "metadata": {},
   "source": [
    "##### Read Data e prepare master dataset"
   ]
  },
  {
   "cell_type": "code",
   "execution_count": 201,
   "id": "1d628485-0d9b-4803-9a97-13973ce448c5",
   "metadata": {},
   "outputs": [
    {
     "name": "stdout",
     "output_type": "stream",
     "text": [
      "Reading delta file ...!\n"
     ]
    }
   ],
   "source": [
    "\n",
    "print(\"Reading delta file ...!\")\n",
    "#option(\"multiline\",\"True\")\n",
    "df = spark.read.format(\"delta\").load(\"/Users/dal/Documents/desafio_ibge/data/delta_dir/transient/url_localidade_mun_sp\")\n",
    "#df.collect()\n",
    "#df.show(n=2, truncate=False, vertical=True)\n",
    "#df.dtypes"
   ]
  },
  {
   "cell_type": "markdown",
   "id": "ef688b30-b2bf-4e09-8c2b-081ddae55c1b",
   "metadata": {},
   "source": [
    "_Create Schema to map all nested columns_"
   ]
  },
  {
   "cell_type": "code",
   "execution_count": 182,
   "id": "d73db9ed-b090-4426-b537-9d7fb12b1975",
   "metadata": {},
   "outputs": [],
   "source": [
    "schema_microrregiao =StructType([\n",
    "                        StructField(\"id\", StringType(), True),\n",
    "                        StructField(\"nome\", StringType(), True),\n",
    "                        StructField(\"mesorregiao\", StructType([\n",
    "                            StructField(\"id\", StringType(), True),\n",
    "                            StructField(\"nome\", StringType(), True),\n",
    "                            StructField(\"UF\",StructType([\n",
    "                                StructField(\"id\", StringType(), True),\n",
    "                                StructField(\"sigla\", StringType(), True),\n",
    "                                StructField(\"nome\", StringType(), True),\n",
    "                                StructField(\"regiao\",StructType([\n",
    "                                    StructField(\"id\", StringType(), True),\n",
    "                                    StructField(\"sigla\", StringType(), True),\n",
    "                                    StructField(\"nome\", StringType(), True),    \n",
    "                                ]))\n",
    "                            ]))\n",
    "                    ])),\n",
    "])"
   ]
  },
  {
   "cell_type": "markdown",
   "id": "3a29eca7-bfbf-458c-9923-dda9d5d10ee9",
   "metadata": {},
   "source": [
    "_Check mapped columns_"
   ]
  },
  {
   "cell_type": "code",
   "execution_count": 238,
   "id": "df416df4-b12e-4c3a-98ac-f46cef53eaa1",
   "metadata": {},
   "outputs": [
    {
     "name": "stdout",
     "output_type": "stream",
     "text": [
      "-RECORD 0-----------------------------------------------------------------------\n",
      " id_municipio   | 3509403                                                       \n",
      " nome_municipio | Cajuru                                                        \n",
      " id             | 35015                                                         \n",
      " nome           | Batatais                                                      \n",
      " mesorregiao    | {3502, Ribeirão Preto, {35, SP, São Paulo, {3, SE, Sudeste}}} \n",
      "-RECORD 1-----------------------------------------------------------------------\n",
      " id_municipio   | 3509452                                                       \n",
      " nome_municipio | Campina do Monte Alegre                                       \n",
      " id             | 35042                                                         \n",
      " nome           | Itapetininga                                                  \n",
      " mesorregiao    | {3511, Itapetininga, {35, SP, São Paulo, {3, SE, Sudeste}}}   \n",
      "only showing top 2 rows\n",
      "\n"
     ]
    }
   ],
   "source": [
    "df.withColumn(\"mi\", from_json(\"microrregiao\", schema_microrregiao))\\\n",
    "    .select(col('id').alias(\"id_municipio\"), col('nome').alias(\"nome_municipio\"),col('mi.*'))\\\n",
    "    .show(n=2, truncate=False, vertical=True)"
   ]
  },
  {
   "cell_type": "markdown",
   "id": "e9cbe221-23f4-4261-b57c-44fe3bc223fd",
   "metadata": {},
   "source": [
    "_Aplica o schema criado para o novo dataset _"
   ]
  },
  {
   "cell_type": "code",
   "execution_count": 239,
   "id": "ffbbd7b5-2276-454c-9a5d-d532fde3be35",
   "metadata": {},
   "outputs": [],
   "source": [
    "df_master = df.withColumn(\"mi\", from_json(\"microrregiao\", schema_microrregiao)) \\\n",
    "    .select(col('id').alias(\"id_municipio\"), col('nome').alias(\"nome_municipio\"),col('mi.*'))"
   ]
  },
  {
   "cell_type": "code",
   "execution_count": 258,
   "id": "28a3d1c1-3c20-4896-8bc5-6270d7c29624",
   "metadata": {},
   "outputs": [
    {
     "name": "stdout",
     "output_type": "stream",
     "text": [
      "root\n",
      " |-- id_municipio: string (nullable = true)\n",
      " |-- nome_municipio: string (nullable = true)\n",
      " |-- id: string (nullable = true)\n",
      " |-- nome: string (nullable = true)\n",
      " |-- mesorregiao: struct (nullable = true)\n",
      " |    |-- id: string (nullable = true)\n",
      " |    |-- nome: string (nullable = true)\n",
      " |    |-- UF: struct (nullable = true)\n",
      " |    |    |-- id: string (nullable = true)\n",
      " |    |    |-- sigla: string (nullable = true)\n",
      " |    |    |-- nome: string (nullable = true)\n",
      " |    |    |-- regiao: struct (nullable = true)\n",
      " |    |    |    |-- id: string (nullable = true)\n",
      " |    |    |    |-- sigla: string (nullable = true)\n",
      " |    |    |    |-- nome: string (nullable = true)\n",
      "\n"
     ]
    }
   ],
   "source": [
    "df_master.printSchema()"
   ]
  },
  {
   "cell_type": "code",
   "execution_count": 241,
   "id": "eba59e10-db41-455f-8dd0-1855fbf96567",
   "metadata": {},
   "outputs": [],
   "source": [
    "#df_master.show(n=2, truncate=False, vertical=True)x"
   ]
  },
  {
   "cell_type": "code",
   "execution_count": 243,
   "id": "ad4c08a0-d02f-424c-9ca6-983bdc91860e",
   "metadata": {},
   "outputs": [
    {
     "name": "stdout",
     "output_type": "stream",
     "text": [
      "-RECORD 0---------------------\n",
      " id                   | 35015 \n",
      " mesorregiao.id       | 3502  \n",
      " mesorregiao.UF.sigla | SP    \n",
      "-RECORD 1---------------------\n",
      " id                   | 35042 \n",
      " mesorregiao.id       | 3511  \n",
      " mesorregiao.UF.sigla | SP    \n",
      "only showing top 2 rows\n",
      "\n"
     ]
    }
   ],
   "source": [
    "#check data\n",
    "(df_master.select(df_master.id,df_master.mesorregiao.id,df_master.mesorregiao.UF.sigla)\n",
    "    .show(n=2, truncate=False, vertical=True))"
   ]
  },
  {
   "cell_type": "markdown",
   "id": "ec951596-a3eb-4315-8baa-f1dccb973a68",
   "metadata": {},
   "source": [
    "##### Processing : Local helpers"
   ]
  },
  {
   "cell_type": "code",
   "execution_count": 262,
   "id": "421b55a2-517e-4f3d-a1a4-130fbbea0baa",
   "metadata": {},
   "outputs": [],
   "source": [
    "#save data as delta table\n",
    "def save_ibge_data_as_delta(df, path, table_name):\n",
    "    df.withColumn(\"load_timestamp\", current_timestamp())\n",
    "    df.write.mode(saveMode=\"overwrite\").option(\"mergeSchema\", \"true\").format(\"delta\").save(path +\"/\"+ table_name)"
   ]
  },
  {
   "cell_type": "markdown",
   "id": "7b23eed3-d891-4d28-a574-e08766880f52",
   "metadata": {},
   "source": [
    "##### Processing : Municipios"
   ]
  },
  {
   "cell_type": "code",
   "execution_count": 263,
   "id": "f2eeb517-784c-42f6-913e-95434e27bf74",
   "metadata": {},
   "outputs": [
    {
     "name": "stdout",
     "output_type": "stream",
     "text": [
      "Processando a tabela de Municipios...!\n"
     ]
    }
   ],
   "source": [
    "print(\"Processando a tabela de Municipios...!\")"
   ]
  },
  {
   "cell_type": "code",
   "execution_count": 264,
   "id": "091773d9-d736-435a-bedb-0eaf842b615e",
   "metadata": {},
   "outputs": [],
   "source": [
    "#Data Transformations"
   ]
  },
  {
   "cell_type": "code",
   "execution_count": 276,
   "id": "dcaf3eba-1292-45a5-9316-6941affd5a97",
   "metadata": {},
   "outputs": [],
   "source": [
    "df_municipio = df_master.selectExpr(\"id_municipio as id\", \"nome_municipio as nome\", \"id as microrregiao_id\")"
   ]
  },
  {
   "cell_type": "code",
   "execution_count": 283,
   "id": "7977dcf4-5b9c-4787-8582-c29fb847b3ca",
   "metadata": {},
   "outputs": [],
   "source": [
    "path_raw = download_endpoint_helper.delta_root_dir + \"/\" + download_endpoint_helper.raw_dir "
   ]
  },
  {
   "cell_type": "code",
   "execution_count": 284,
   "id": "a8964baa-b8b3-4256-b31f-24e00ef47fce",
   "metadata": {},
   "outputs": [],
   "source": [
    "save_ibge_data_as_delta(df_municipio, path_raw,'tb_municipio')"
   ]
  },
  {
   "cell_type": "markdown",
   "id": "fcf6b0e2-a462-450f-93fa-ebcc1a33f4e9",
   "metadata": {},
   "source": [
    "##### Processing : Microrregião"
   ]
  },
  {
   "cell_type": "code",
   "execution_count": 279,
   "id": "57ddad8f-49d9-46f0-8693-89e8fbea3b6b",
   "metadata": {},
   "outputs": [
    {
     "name": "stdout",
     "output_type": "stream",
     "text": [
      "Processando a tabela de Microrregiões ...!\n"
     ]
    }
   ],
   "source": [
    "print(\"Processando a tabela de Microrregiões ...!\")"
   ]
  },
  {
   "cell_type": "code",
   "execution_count": 280,
   "id": "2ccacb5c-d9a7-48f8-b7ab-9be162ebf63f",
   "metadata": {},
   "outputs": [],
   "source": [
    "#Data Transformations"
   ]
  },
  {
   "cell_type": "code",
   "execution_count": 285,
   "id": "85e2b54e-70ea-455b-b31a-ed4a659959a1",
   "metadata": {},
   "outputs": [],
   "source": [
    "df_microrregiao = df_master.selectExpr(\"id\",\"nome\", \"mesorregiao.id as mesorregiao_id\")"
   ]
  },
  {
   "cell_type": "code",
   "execution_count": 286,
   "id": "7ccaace0-c8fb-442d-9695-b7a99b380d60",
   "metadata": {},
   "outputs": [],
   "source": [
    "save_ibge_data_as_delta(df_microrregiao, path_raw,'tb_microrregiao')"
   ]
  },
  {
   "cell_type": "markdown",
   "id": "3dcdbb63-1915-4214-9120-c42e431d8f88",
   "metadata": {},
   "source": [
    "##### Processing : Mesorregião"
   ]
  },
  {
   "cell_type": "code",
   "execution_count": 227,
   "id": "3e6cb070-a936-4953-9422-7be06a6f8cd5",
   "metadata": {},
   "outputs": [
    {
     "name": "stdout",
     "output_type": "stream",
     "text": [
      "Processando a tabela de Mesorregiões...!\n"
     ]
    }
   ],
   "source": [
    "print(\"Processando a tabela de Mesorregiões...!\")"
   ]
  },
  {
   "cell_type": "code",
   "execution_count": 288,
   "id": "4795d584-393e-4efa-bbf8-a9ef7e475ce5",
   "metadata": {},
   "outputs": [],
   "source": [
    "df_mesorregiao = df_master.selectExpr(\"mesorregiao.id as id\", \"mesorregiao.nome as nome\",\"mesorregiao.UF.id as uf_id\")"
   ]
  },
  {
   "cell_type": "code",
   "execution_count": 289,
   "id": "e6d8b605-5e85-478e-b2f3-4d07a8add81c",
   "metadata": {},
   "outputs": [],
   "source": [
    "save_ibge_data_as_delta(df_mesorregiao, path_raw,'tb_mesorregiao')"
   ]
  },
  {
   "cell_type": "markdown",
   "id": "70fcd10b-0d99-4ef9-a67d-1879917e2f51",
   "metadata": {},
   "source": [
    "##### Processing : UFs"
   ]
  },
  {
   "cell_type": "code",
   "execution_count": 228,
   "id": "27500a54-c90d-47c2-9708-6a610e75e09d",
   "metadata": {},
   "outputs": [
    {
     "name": "stdout",
     "output_type": "stream",
     "text": [
      "Processando a tabela de Regiões...!\n"
     ]
    }
   ],
   "source": [
    "print(\"Processando a tabela de UFs...!\")"
   ]
  },
  {
   "cell_type": "code",
   "execution_count": 295,
   "id": "9854ec88-d9b9-43e4-be89-ab1e2e962ad7",
   "metadata": {},
   "outputs": [],
   "source": [
    "df_uf = df_master.selectExpr(\"mesorregiao.UF.id as id\",\"mesorregiao.UF.sigla as sigla\", \\\n",
    "                                      \"mesorregiao.UF.nome as nome\",\"mesorregiao.UF.regiao.id as regiao_id\")"
   ]
  },
  {
   "cell_type": "code",
   "execution_count": 296,
   "id": "83df5d87-2387-4a8a-ab54-e6855b1a0ba5",
   "metadata": {},
   "outputs": [],
   "source": [
    "save_ibge_data_as_delta(df_uf, path_raw,'tb_uf')"
   ]
  },
  {
   "cell_type": "code",
   "execution_count": 298,
   "id": "4b77789c-2036-4fa1-aa57-50c100aaa311",
   "metadata": {},
   "outputs": [],
   "source": [
    "##### Processing : Região"
   ]
  },
  {
   "cell_type": "code",
   "execution_count": 300,
   "id": "3bba9d99-cf56-4720-9b8c-158b0a7a5059",
   "metadata": {},
   "outputs": [],
   "source": [
    "df_regiao = df_master.selectExpr(\"mesorregiao.UF.regiao.id as id\",\"mesorregiao.UF.regiao.sigla as sigla\", \\\n",
    "                                      \"mesorregiao.UF.regiao.nome as nome\")"
   ]
  },
  {
   "cell_type": "code",
   "execution_count": 301,
   "id": "dbd1c3a8-7b07-4238-9878-a1d94560987b",
   "metadata": {},
   "outputs": [],
   "source": [
    "save_ibge_data_as_delta(df_regiao, path_raw,'tb_regiao')"
   ]
  },
  {
   "cell_type": "markdown",
   "id": "ab4c5205-1303-4606-a958-bcf36c2fc9cc",
   "metadata": {},
   "source": [
    "print(\"Finalizando processamento...!\")"
   ]
  },
  {
   "cell_type": "code",
   "execution_count": null,
   "id": "9a088c0e-9140-4351-bd62-9d58b3354f88",
   "metadata": {},
   "outputs": [],
   "source": []
  }
 ],
 "metadata": {
  "kernelspec": {
   "display_name": "Python 3 (ipykernel)",
   "language": "python",
   "name": "python3"
  },
  "language_info": {
   "codemirror_mode": {
    "name": "ipython",
    "version": 3
   },
   "file_extension": ".py",
   "mimetype": "text/x-python",
   "name": "python",
   "nbconvert_exporter": "python",
   "pygments_lexer": "ipython3",
   "version": "3.10.13"
  }
 },
 "nbformat": 4,
 "nbformat_minor": 5
}
