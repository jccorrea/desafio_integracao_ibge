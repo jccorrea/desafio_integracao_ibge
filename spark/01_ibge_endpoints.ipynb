{
 "cells": [
  {
   "cell_type": "code",
   "execution_count": 2,
   "id": "fb7f3dab-96d4-487b-ab91-25296ac00de4",
   "metadata": {},
   "outputs": [],
   "source": [
    "#Julio Cesar Correa\n",
    "# A simple Dict with all URLs to download data\n",
    "url_endpoints = {'url_pop_mun_sp' : '\"https://servicodados.ibge.gov.br/api/v3/agregados/9520/periodos/-6/variaveis/93?localidades=N6[N3[35]]\"',\n",
    "                  'url_localidade_mun_sp' : '\"https://servicodados.ibge.gov.br/api/v1/localidades/estados/SP/municipios\"'}\n"
   ]
  },
  {
   "cell_type": "code",
   "execution_count": 5,
   "id": "a29a9d7e-f2e1-4a9c-9a18-d3febdfb4e30",
   "metadata": {},
   "outputs": [
    {
     "name": "stdout",
     "output_type": "stream",
     "text": [
      "\"https://servicodados.ibge.gov.br/api/v1/localidades/estados/SP/municipios\"\n"
     ]
    }
   ],
   "source": []
  },
  {
   "cell_type": "code",
   "execution_count": null,
   "id": "8f88efb4-7aa0-4e7a-be95-b09ea5b80c2c",
   "metadata": {},
   "outputs": [],
   "source": []
  }
 ],
 "metadata": {
  "kernelspec": {
   "display_name": "Python 3 (ipykernel)",
   "language": "python",
   "name": "python3"
  },
  "language_info": {
   "codemirror_mode": {
    "name": "ipython",
    "version": 3
   },
   "file_extension": ".py",
   "mimetype": "text/x-python",
   "name": "python",
   "nbconvert_exporter": "python",
   "pygments_lexer": "ipython3",
   "version": "3.10.13"
  }
 },
 "nbformat": 4,
 "nbformat_minor": 5
}
