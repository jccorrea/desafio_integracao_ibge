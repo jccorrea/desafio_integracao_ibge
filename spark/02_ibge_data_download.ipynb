{
 "cells": [
  {
   "cell_type": "markdown",
   "id": "b9b0f2a7-ba89-4ef9-afe8-9bd16e302c11",
   "metadata": {},
   "source": [
    "####  Desafio de Integração de dados IBGE\n",
    "##### Julio Cesar Correa \n",
    "23/02/2024\n",
    " "
   ]
  },
  {
   "cell_type": "markdown",
   "id": "1983f8a0-51a1-4fef-af91-95492f0c1e1a",
   "metadata": {},
   "source": [
    "#### Ingest - Download data from IBGE API "
   ]
  },
  {
   "cell_type": "code",
   "execution_count": 1,
   "id": "746e10a1-4249-4e2a-a3d8-77d7149fd0be",
   "metadata": {},
   "outputs": [],
   "source": [
    "import os\n",
    "import pandas as pd, numpy as np\n",
    "import json\n",
    "import requests\n",
    "#pip install import_ipynb\n",
    "#import import_ipynb\n"
   ]
  },
  {
   "cell_type": "code",
   "execution_count": 2,
   "id": "db3cae37-e933-4557-94e6-d85b7ec2675f",
   "metadata": {},
   "outputs": [],
   "source": [
    "import delta\n",
    "#from delta import *\n",
    "#from delta.tables import *\n",
    "#import mimesis"
   ]
  },
  {
   "cell_type": "code",
   "execution_count": 3,
   "id": "3b051680-301d-459f-b910-e2c3bf6f59f4",
   "metadata": {},
   "outputs": [],
   "source": [
    "# Import all functions and types\n",
    "from pyspark.sql.types import *\n",
    "from pyspark.sql.functions import *"
   ]
  },
  {
   "cell_type": "code",
   "execution_count": 4,
   "id": "a4fa9fda-ee98-4e46-894e-2c7eaf0397df",
   "metadata": {},
   "outputs": [],
   "source": [
    "import pyspark\n",
    "from pyspark.sql import SparkSession"
   ]
  },
  {
   "cell_type": "code",
   "execution_count": 5,
   "id": "11ba7822-1343-42bd-ab90-a0eccb3192f9",
   "metadata": {},
   "outputs": [],
   "source": [
    "#read dict path with URLs to hit"
   ]
  },
  {
   "cell_type": "code",
   "execution_count": 6,
   "id": "8ee97faf-b077-4094-b3e6-7cb4f8058ed8",
   "metadata": {},
   "outputs": [],
   "source": [
    "def get_spark() -> SparkSession:\n",
    "    builder = (\n",
    "        pyspark.sql.SparkSession.builder.appName(\"IBGE: Data Download\")\n",
    "        .config(\"spark.sql.extensions\", \"io.delta.sql.DeltaSparkSessionExtension\")\n",
    "        .config(\n",
    "            \"spark.sql.catalog.spark_catalog\",\n",
    "            \"org.apache.spark.sql.delta.catalog.DeltaCatalog\",\n",
    "        )\n",
    "    )\n",
    "    spark = delta.configure_spark_with_delta_pip(builder).getOrCreate()\n",
    "    spark.sparkContext.setLogLevel(\"ERROR\")\n",
    "    return spark"
   ]
  },
  {
   "cell_type": "code",
   "execution_count": 7,
   "id": "165b513a-b06d-4c1c-a3b3-e6caa303f648",
   "metadata": {},
   "outputs": [
    {
     "name": "stdout",
     "output_type": "stream",
     "text": [
      "24/02/24 12:37:54 WARN Utils: Your hostname, MacBookJulio.local resolves to a loopback address: 127.0.0.1; using 192.168.5.111 instead (on interface en0)\n",
      "24/02/24 12:37:54 WARN Utils: Set SPARK_LOCAL_IP if you need to bind to another address\n",
      ":: loading settings :: url = jar:file:/Users/dal/anaconda3/envs/delta_env/lib/python3.10/site-packages/pyspark/jars/ivy-2.5.0.jar!/org/apache/ivy/core/settings/ivysettings.xml\n"
     ]
    },
    {
     "name": "stderr",
     "output_type": "stream",
     "text": [
      "Ivy Default Cache set to: /Users/dal/.ivy2/cache\n",
      "The jars for the packages stored in: /Users/dal/.ivy2/jars\n",
      "io.delta#delta-core_2.12 added as a dependency\n",
      ":: resolving dependencies :: org.apache.spark#spark-submit-parent-cda685b2-0e22-4eab-836a-655dc2ad2979;1.0\n",
      "\tconfs: [default]\n",
      "\tfound io.delta#delta-core_2.12;2.2.0 in central\n",
      "\tfound io.delta#delta-storage;2.2.0 in central\n",
      "\tfound org.antlr#antlr4-runtime;4.8 in central\n",
      ":: resolution report :: resolve 233ms :: artifacts dl 9ms\n",
      "\t:: modules in use:\n",
      "\tio.delta#delta-core_2.12;2.2.0 from central in [default]\n",
      "\tio.delta#delta-storage;2.2.0 from central in [default]\n",
      "\torg.antlr#antlr4-runtime;4.8 from central in [default]\n",
      "\t---------------------------------------------------------------------\n",
      "\t|                  |            modules            ||   artifacts   |\n",
      "\t|       conf       | number| search|dwnlded|evicted|| number|dwnlded|\n",
      "\t---------------------------------------------------------------------\n",
      "\t|      default     |   3   |   0   |   0   |   0   ||   3   |   0   |\n",
      "\t---------------------------------------------------------------------\n",
      ":: retrieving :: org.apache.spark#spark-submit-parent-cda685b2-0e22-4eab-836a-655dc2ad2979\n",
      "\tconfs: [default]\n",
      "\t0 artifacts copied, 3 already retrieved (0kB/5ms)\n"
     ]
    },
    {
     "name": "stdout",
     "output_type": "stream",
     "text": [
      "24/02/24 12:37:55 WARN NativeCodeLoader: Unable to load native-hadoop library for your platform... using builtin-java classes where applicable\n"
     ]
    },
    {
     "name": "stderr",
     "output_type": "stream",
     "text": [
      "Setting default log level to \"WARN\".\n",
      "To adjust logging level use sc.setLogLevel(newLevel). For SparkR, use setLogLevel(newLevel).\n"
     ]
    },
    {
     "name": "stdout",
     "output_type": "stream",
     "text": [
      "24/02/24 12:37:56 WARN Utils: Service 'SparkUI' could not bind on port 4040. Attempting port 4041.\n"
     ]
    }
   ],
   "source": [
    "spark = get_spark()"
   ]
  },
  {
   "cell_type": "code",
   "execution_count": 8,
   "id": "9c9b5248-fbd6-45c1-bc0c-e953eafa9b84",
   "metadata": {},
   "outputs": [
    {
     "data": {
      "text/plain": [
       "'\\nspark = SparkSession.builder.master(\"local[1]\")                     .appName(\\'IBGE: Data Download\\')                     .config(\"spark.sql.extensions\", \"io.delta.sql.DeltaSparkSessionExtension\")                     .config( \"spark.sql.catalog.spark_catalog\", \"org.apache.spark.sql.delta.catalog.DeltaCatalog\")                     .getOrCreate()\\n'"
      ]
     },
     "execution_count": 8,
     "metadata": {},
     "output_type": "execute_result"
    }
   ],
   "source": [
    "\"\"\"\n",
    "spark = SparkSession.builder.master(\"local[1]\") \\\n",
    "                    .appName('IBGE: Data Download') \\\n",
    "                    .config(\"spark.sql.extensions\", \"io.delta.sql.DeltaSparkSessionExtension\") \\\n",
    "                    .config( \"spark.sql.catalog.spark_catalog\", \"org.apache.spark.sql.delta.catalog.DeltaCatalog\") \\\n",
    "                    .getOrCreate()\n",
    "\"\"\""
   ]
  },
  {
   "cell_type": "markdown",
   "id": "e549d7fe-148e-45cc-811d-ffc6fcdc32c9",
   "metadata": {},
   "source": [
    "##### Here importing variables, dict from helper file"
   ]
  },
  {
   "cell_type": "code",
   "execution_count": 9,
   "id": "5633e270-8e46-4f3f-9b10-1e5eb2b1ece1",
   "metadata": {},
   "outputs": [],
   "source": [
    "\n",
    "from helpers import download_endpoint_helper"
   ]
  },
  {
   "cell_type": "code",
   "execution_count": 10,
   "id": "e4b4ab64-a580-43e2-88dd-ae2a8f1bdf0b",
   "metadata": {},
   "outputs": [],
   "source": [
    "spark.conf.set(\"spark.sql.pyspark.inferNestedDictAsStruct.enabled\",  True)"
   ]
  },
  {
   "cell_type": "code",
   "execution_count": 11,
   "id": "e42c02b0-2879-4ca5-bac9-8e50a1a8f1b8",
   "metadata": {},
   "outputs": [],
   "source": [
    "#for i in download_endpoint_helper.url_endpoints.values():\n",
    "#   print(i)"
   ]
  },
  {
   "cell_type": "code",
   "execution_count": 12,
   "id": "897b42b5-42bf-4d4a-8bc3-3cdd00c066d3",
   "metadata": {},
   "outputs": [
    {
     "name": "stdout",
     "output_type": "stream",
     "text": [
      "url_pop_mun_sp : https://servicodados.ibge.gov.br/api/v3/agregados/9520/periodos/-6/variaveis/93?localidades=N6[N3[35]]\n",
      "url_localidade_mun_sp : https://servicodados.ibge.gov.br/api/v1/localidades/estados/SP/municipios\n",
      "url_pib_mun_sp : https://servicodados.ibge.gov.br/api/v3/agregados/5938/periodos/2019|2020|2021/variaveis/37?localidades=N6[N3[35]]\n",
      "url_idh_uf_sp : https://servicodados.ibge.gov.br/api/v1/pesquisas/37/resultados/33\n",
      "url_idh_mun_sp : https://servicodados.ibge.gov.br/api/v1/pesquisas/37/resultados/N6[N3[35]]\n"
     ]
    }
   ],
   "source": [
    "for i in download_endpoint_helper.url_endpoints:\n",
    "   print(i,':', download_endpoint_helper.url_endpoints[i])\n",
    "   "
   ]
  },
  {
   "cell_type": "code",
   "execution_count": 13,
   "id": "a56fbd7d-eb18-465a-98ef-d295b8155997",
   "metadata": {},
   "outputs": [],
   "source": [
    "#print(download_endpoint_helper.url_endpoints[\"url_localidade_mun_sp\"])"
   ]
  },
  {
   "cell_type": "markdown",
   "id": "52f3adcf-4f27-4e60-b014-aefcbcd5d266",
   "metadata": {},
   "source": [
    "##### 1. Python Methods / Helpers"
   ]
  },
  {
   "cell_type": "code",
   "execution_count": 14,
   "id": "c9bfed3a-2199-46a8-912f-dff0c2f38802",
   "metadata": {},
   "outputs": [],
   "source": [
    "#download API data\n",
    "def download_api_data(url, data, headers):\n",
    "    response = None\n",
    "    try:\n",
    "        response = requests.get(url, data=body, headers=headers)\n",
    "    except Exception as e:\n",
    "        print(e)\n",
    "    if response != None and response.status_code == 200:\n",
    "        print(json.dumps(response.url))\n",
    "        municipios_sp_data = json.loads(response.text)\n",
    "    return(municipios_sp_data)"
   ]
  },
  {
   "cell_type": "code",
   "execution_count": 15,
   "id": "101440bc-1d00-40c2-bca2-3ede56a4bf71",
   "metadata": {},
   "outputs": [],
   "source": [
    "#save data as delta table\n",
    "def save_ibge_data_as_delta(data, path, table_name):\n",
    "    df = pd.DataFrame(data)\n",
    "    spark_df = spark.createDataFrame(df.astype(str)) \n",
    "    spark_df.withColumn(\"load_timestamp\", current_timestamp())\n",
    "    spark_df.write.mode(saveMode=\"overwrite\").format(\"delta\").save(path +\"/\"+ table_name)"
   ]
  },
  {
   "cell_type": "code",
   "execution_count": 16,
   "id": "0c8bfb18-0430-43f9-9b22-2fbeff38b4aa",
   "metadata": {},
   "outputs": [],
   "source": [
    "# fixed parameters do get data\n",
    "headers = {'Content-Type': \"application/json\"}\n",
    "body = json.dumps({})\n",
    "page = 1"
   ]
  },
  {
   "cell_type": "markdown",
   "id": "7b23eed3-d891-4d28-a574-e08766880f52",
   "metadata": {},
   "source": [
    "##### 2. Call and Processing Data"
   ]
  },
  {
   "cell_type": "markdown",
   "id": "2944d016-33d5-40fc-9685-df7c103c3535",
   "metadata": {},
   "source": [
    "Using a simple loop through url dict values"
   ]
  },
  {
   "cell_type": "code",
   "execution_count": 17,
   "id": "db254835-40c7-40dd-ab92-9c15d3d88481",
   "metadata": {},
   "outputs": [],
   "source": [
    "#fix issue when infer schema\n",
    "pd.DataFrame.iteritems = pd.DataFrame.items"
   ]
  },
  {
   "cell_type": "code",
   "execution_count": 18,
   "id": "710a9f20-ca18-4cb9-88de-2a7d4c0bcd6c",
   "metadata": {},
   "outputs": [
    {
     "name": "stdout",
     "output_type": "stream",
     "text": [
      "url_pop_mun_sp : https://servicodados.ibge.gov.br/api/v3/agregados/9520/periodos/-6/variaveis/93?localidades=N6[N3[35]]\n",
      "\"https://servicodados.ibge.gov.br/api/v3/agregados/9520/periodos/-6/variaveis/93?localidades=N6%5BN3%5B35%5D%5D\"\n"
     ]
    },
    {
     "name": "stderr",
     "output_type": "stream",
     "text": [
      "                                                                                \r"
     ]
    },
    {
     "name": "stdout",
     "output_type": "stream",
     "text": [
      "url_localidade_mun_sp : https://servicodados.ibge.gov.br/api/v1/localidades/estados/SP/municipios\n",
      "\"https://servicodados.ibge.gov.br/api/v1/localidades/estados/SP/municipios\"\n",
      "url_pib_mun_sp : https://servicodados.ibge.gov.br/api/v3/agregados/5938/periodos/2019|2020|2021/variaveis/37?localidades=N6[N3[35]]\n",
      "\"https://servicodados.ibge.gov.br/api/v3/agregados/5938/periodos/2019%7C2020%7C2021/variaveis/37?localidades=N6%5BN3%5B35%5D%5D\"\n",
      "url_idh_uf_sp : https://servicodados.ibge.gov.br/api/v1/pesquisas/37/resultados/33\n",
      "\"https://servicodados.ibge.gov.br/api/v1/pesquisas/37/resultados/33\"\n",
      "url_idh_mun_sp : https://servicodados.ibge.gov.br/api/v1/pesquisas/37/resultados/N6[N3[35]]\n",
      "\"https://servicodados.ibge.gov.br/api/v1/pesquisas/37/resultados/N6%5BN3%5B35%5D%5D\"\n"
     ]
    }
   ],
   "source": [
    "for idx_key in download_endpoint_helper.url_endpoints:\n",
    "    target_url = download_endpoint_helper.url_endpoints[idx_key]\n",
    "    print(idx_key,':', download_endpoint_helper.url_endpoints[idx_key])\n",
    "    #get the data from API\n",
    "    response_data = download_api_data(url=target_url, data=body, headers=headers)\n",
    "    #create path\n",
    "    path = download_endpoint_helper.delta_root_dir + \"/\" + download_endpoint_helper.transient_dir \n",
    "    #Save Data as Delta format\n",
    "    save_ibge_data_as_delta(response_data, path, idx_key)"
   ]
  },
  {
   "cell_type": "code",
   "execution_count": null,
   "id": "730a00e1-ec4a-4d8e-9a1c-1a89358550a3",
   "metadata": {},
   "outputs": [],
   "source": []
  },
  {
   "cell_type": "code",
   "execution_count": null,
   "id": "53d9da47-2729-4a15-84ba-93a1b3697d1d",
   "metadata": {},
   "outputs": [],
   "source": []
  }
 ],
 "metadata": {
  "kernelspec": {
   "display_name": "Python 3 (ipykernel)",
   "language": "python",
   "name": "python3"
  },
  "language_info": {
   "codemirror_mode": {
    "name": "ipython",
    "version": 3
   },
   "file_extension": ".py",
   "mimetype": "text/x-python",
   "name": "python",
   "nbconvert_exporter": "python",
   "pygments_lexer": "ipython3",
   "version": "3.10.13"
  }
 },
 "nbformat": 4,
 "nbformat_minor": 5
}
