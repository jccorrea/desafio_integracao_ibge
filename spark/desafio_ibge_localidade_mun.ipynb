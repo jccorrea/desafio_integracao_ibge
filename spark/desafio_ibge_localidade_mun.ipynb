{
 "cells": [
  {
   "cell_type": "markdown",
   "id": "b9b0f2a7-ba89-4ef9-afe8-9bd16e302c11",
   "metadata": {
    "jp-MarkdownHeadingCollapsed": true
   },
   "source": [
    "####  Desafio de Integração de dados IBGE\n",
    "##### Julio Cesar Correa \n",
    "18/02/2024\n",
    " "
   ]
  },
  {
   "cell_type": "markdown",
   "id": "1983f8a0-51a1-4fef-af91-95492f0c1e1a",
   "metadata": {},
   "source": [
    "#### Ingest - Localidades - Municipio do estado de SP"
   ]
  },
  {
   "cell_type": "code",
   "execution_count": 1,
   "id": "746e10a1-4249-4e2a-a3d8-77d7149fd0be",
   "metadata": {},
   "outputs": [],
   "source": [
    "import os\n",
    "import pandas as pd, numpy as np"
   ]
  },
  {
   "cell_type": "code",
   "execution_count": 10,
   "id": "db3cae37-e933-4557-94e6-d85b7ec2675f",
   "metadata": {},
   "outputs": [],
   "source": [
    "import delta\n",
    "import requests\n",
    "#import mimesis"
   ]
  },
  {
   "cell_type": "code",
   "execution_count": 3,
   "id": "3b051680-301d-459f-b910-e2c3bf6f59f4",
   "metadata": {},
   "outputs": [],
   "source": [
    "# Import all functions and types\n",
    "from pyspark.sql.types import *\n",
    "from pyspark.sql.functions import *"
   ]
  },
  {
   "cell_type": "code",
   "execution_count": 4,
   "id": "a4fa9fda-ee98-4e46-894e-2c7eaf0397df",
   "metadata": {},
   "outputs": [],
   "source": [
    "import pyspark\n",
    "from pyspark.sql import SparkSession"
   ]
  },
  {
   "cell_type": "code",
   "execution_count": null,
   "id": "11ba7822-1343-42bd-ab90-a0eccb3192f9",
   "metadata": {},
   "outputs": [],
   "source": [
    "from delta.tables import *"
   ]
  },
  {
   "cell_type": "code",
   "execution_count": null,
   "id": "81117d29-90e7-4d40-aeea-ccd7cc414068",
   "metadata": {},
   "outputs": [],
   "source": [
    "import "
   ]
  },
  {
   "cell_type": "code",
   "execution_count": 5,
   "id": "9c9b5248-fbd6-45c1-bc0c-e953eafa9b84",
   "metadata": {},
   "outputs": [
    {
     "name": "stdout",
     "output_type": "stream",
     "text": [
      "24/02/22 15:25:42 WARN Utils: Your hostname, MacBookJulio.local resolves to a loopback address: 127.0.0.1; using 192.168.5.111 instead (on interface en0)\n",
      "24/02/22 15:25:42 WARN Utils: Set SPARK_LOCAL_IP if you need to bind to another address\n"
     ]
    },
    {
     "name": "stderr",
     "output_type": "stream",
     "text": [
      "Setting default log level to \"WARN\".\n",
      "To adjust logging level use sc.setLogLevel(newLevel). For SparkR, use setLogLevel(newLevel).\n"
     ]
    },
    {
     "name": "stdout",
     "output_type": "stream",
     "text": [
      "24/02/22 15:25:43 WARN NativeCodeLoader: Unable to load native-hadoop library for your platform... using builtin-java classes where applicable\n",
      "24/02/22 15:25:44 WARN Utils: Service 'SparkUI' could not bind on port 4040. Attempting port 4041.\n",
      "24/02/22 15:25:44 WARN Utils: Service 'SparkUI' could not bind on port 4041. Attempting port 4042.\n"
     ]
    }
   ],
   "source": [
    "spark = SparkSession.builder.master(\"local[1]\") \\\n",
    "                    .appName('Desafio IBGE - Localidades') \\\n",
    "                    .getOrCreate()"
   ]
  },
  {
   "cell_type": "markdown",
   "id": "52f3adcf-4f27-4e60-b014-aefcbcd5d266",
   "metadata": {},
   "source": [
    "##### Python Methods / Helpers"
   ]
  },
  {
   "cell_type": "code",
   "execution_count": 6,
   "id": "1d628485-0d9b-4803-9a97-13973ce448c5",
   "metadata": {},
   "outputs": [],
   "source": [
    "def call_rest_api(verb, url, body, page):\n",
    "  #\n",
    "  headers = {\n",
    "      'Content-Type': \"application/json\",\n",
    "      'User-Agent': \"apache spark 3.x\"\n",
    "  }\n",
    "  res = None\n",
    "  # Make API request, get response object back, create dataframe from above schema.\n",
    "  try:\n",
    "    if verb == \"get\":\n",
    "      res = requests.get(\"{url}/{page}\".format(url=url,page=page), data=body, headers=headers)\n",
    "    else:\n",
    "      res = requests.post(\"{url}/{page}\".format(url=url,page=page), data=body, headers=headers)\n",
    "  except Exception as e:\n",
    "    return e\n",
    "  if res != None and res.status_code == 200:\n",
    "    return json.loads(res.text)\n",
    "  return None"
   ]
  },
  {
   "cell_type": "code",
   "execution_count": 7,
   "id": "140891fd-1bc1-400c-84d3-e43ff86fdce4",
   "metadata": {},
   "outputs": [],
   "source": [
    "url = \"https://servicodados.ibge.gov.br/api/v1/localidades/estados/SP/municipios\"\n",
    "page = 1\n"
   ]
  },
  {
   "cell_type": "markdown",
   "id": "7b23eed3-d891-4d28-a574-e08766880f52",
   "metadata": {},
   "source": [
    "##### Processing : Municipios"
   ]
  },
  {
   "cell_type": "code",
   "execution_count": 8,
   "id": "dcaf3eba-1292-45a5-9316-6941affd5a97",
   "metadata": {},
   "outputs": [],
   "source": [
    "\n",
    "#df_master_populacao_residente.head()\n",
    "#df_populacao_residente = df_master_populacao_residente[[\"id\",\"variavel\",\"unidade\",\"resultados\"]]\n",
    "#json normalize\n",
    "#working v1\n",
    "#cria  column classificacoes e series(dados)\n",
    "#df1_populacao_residente = pd.json_normalize(pop_residente_mun_sp_data, record_path=['resultados'], errors=\"ignore\", max_level=1)\n"
   ]
  },
  {
   "cell_type": "code",
   "execution_count": null,
   "id": "4d04fdee-59ab-4df5-a4c2-00f70826dcc5",
   "metadata": {},
   "outputs": [],
   "source": [
    "\"\"\"\n",
    "df1_populacao_residente = pd.json_normalize(pop_residente_mun_sp_data, ['resultados','series'], errors=\"ignore\" )\n",
    "df1_populacao_residente.columns = [\"localidade_id\",\"nivel_id\",\"nivel_nome\",\"localidade_nome\",\"serie_2022\"]\n",
    "df1_populacao_residente\n",
    "\"\"\""
   ]
  },
  {
   "cell_type": "code",
   "execution_count": null,
   "id": "862f0714-a860-43b7-9c17-871fe865c735",
   "metadata": {},
   "outputs": [],
   "source": []
  }
 ],
 "metadata": {
  "kernelspec": {
   "display_name": "Python 3 (ipykernel)",
   "language": "python",
   "name": "python3"
  },
  "language_info": {
   "codemirror_mode": {
    "name": "ipython",
    "version": 3
   },
   "file_extension": ".py",
   "mimetype": "text/x-python",
   "name": "python",
   "nbconvert_exporter": "python",
   "pygments_lexer": "ipython3",
   "version": "3.10.13"
  }
 },
 "nbformat": 4,
 "nbformat_minor": 5
}
